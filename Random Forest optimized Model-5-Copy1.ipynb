{
 "cells": [
  {
   "cell_type": "code",
   "execution_count": 50,
   "metadata": {},
   "outputs": [],
   "source": [
    "import pandas as pd\n",
    "import numpy as np\n",
    "from sklearn.linear_model import LogisticRegression\n",
    "from sklearn.ensemble import RandomForestClassifier\n",
    "from imblearn.over_sampling import SMOTE\n",
    "from collections import Counter\n",
    "from sklearn.model_selection import GridSearchCV,RandomizedSearchCV\n",
    "from sklearn.metrics import classification_report,confusion_matrix,accuracy_score,recall_score,precision_score,roc_curve,roc_auc_score\n",
    "\n",
    "from sklearn.model_selection import train_test_split\n",
    "import matplotlib.pyplot as plt\n"
   ]
  },
  {
   "cell_type": "code",
   "execution_count": 51,
   "metadata": {},
   "outputs": [],
   "source": [
    "df= pd.read_csv('df_after_scale.csv')"
   ]
  },
  {
   "cell_type": "code",
   "execution_count": 52,
   "metadata": {},
   "outputs": [
    {
     "data": {
      "text/html": [
       "<div>\n",
       "<style scoped>\n",
       "    .dataframe tbody tr th:only-of-type {\n",
       "        vertical-align: middle;\n",
       "    }\n",
       "\n",
       "    .dataframe tbody tr th {\n",
       "        vertical-align: top;\n",
       "    }\n",
       "\n",
       "    .dataframe thead th {\n",
       "        text-align: right;\n",
       "    }\n",
       "</style>\n",
       "<table border=\"1\" class=\"dataframe\">\n",
       "  <thead>\n",
       "    <tr style=\"text-align: right;\">\n",
       "      <th></th>\n",
       "      <th>State</th>\n",
       "      <th>Acc_len</th>\n",
       "      <th>Area_code</th>\n",
       "      <th>Int_plan</th>\n",
       "      <th>Vmail_plan</th>\n",
       "      <th>Vmail_message</th>\n",
       "      <th>Day_min</th>\n",
       "      <th>Day_calls</th>\n",
       "      <th>Day_charge</th>\n",
       "      <th>Eve_mins</th>\n",
       "      <th>Eve_calls</th>\n",
       "      <th>Eve_charge</th>\n",
       "      <th>Night_mins</th>\n",
       "      <th>Night_calls</th>\n",
       "      <th>Night_charge</th>\n",
       "      <th>Int_mins</th>\n",
       "      <th>Int_calls</th>\n",
       "      <th>Int_charge</th>\n",
       "      <th>Custserv_calls</th>\n",
       "      <th>Churn</th>\n",
       "    </tr>\n",
       "  </thead>\n",
       "  <tbody>\n",
       "    <tr>\n",
       "      <th>0</th>\n",
       "      <td>0</td>\n",
       "      <td>0.690901</td>\n",
       "      <td>415</td>\n",
       "      <td>0</td>\n",
       "      <td>1</td>\n",
       "      <td>1.261885</td>\n",
       "      <td>1.568293</td>\n",
       "      <td>0.500261</td>\n",
       "      <td>1.568569</td>\n",
       "      <td>-0.059921</td>\n",
       "      <td>-0.059527</td>\n",
       "      <td>-0.059742</td>\n",
       "      <td>0.872135</td>\n",
       "      <td>-0.448712</td>\n",
       "      <td>0.871418</td>\n",
       "      <td>-0.101301</td>\n",
       "      <td>-0.583487</td>\n",
       "      <td>-0.102005</td>\n",
       "      <td>-0.433885</td>\n",
       "      <td>0</td>\n",
       "    </tr>\n",
       "    <tr>\n",
       "      <th>1</th>\n",
       "      <td>0</td>\n",
       "      <td>0.160503</td>\n",
       "      <td>415</td>\n",
       "      <td>0</td>\n",
       "      <td>1</td>\n",
       "      <td>1.335463</td>\n",
       "      <td>-0.349166</td>\n",
       "      <td>1.154156</td>\n",
       "      <td>-0.349447</td>\n",
       "      <td>-0.097506</td>\n",
       "      <td>0.142298</td>\n",
       "      <td>-0.096978</td>\n",
       "      <td>1.064069</td>\n",
       "      <td>0.153308</td>\n",
       "      <td>1.064889</td>\n",
       "      <td>1.240707</td>\n",
       "      <td>-0.583487</td>\n",
       "      <td>1.241481</td>\n",
       "      <td>-0.433885</td>\n",
       "      <td>0</td>\n",
       "    </tr>\n",
       "    <tr>\n",
       "      <th>2</th>\n",
       "      <td>0</td>\n",
       "      <td>0.918214</td>\n",
       "      <td>415</td>\n",
       "      <td>0</td>\n",
       "      <td>0</td>\n",
       "      <td>-0.577587</td>\n",
       "      <td>1.166275</td>\n",
       "      <td>0.701460</td>\n",
       "      <td>1.166439</td>\n",
       "      <td>-1.567294</td>\n",
       "      <td>0.495492</td>\n",
       "      <td>-1.567818</td>\n",
       "      <td>-0.752381</td>\n",
       "      <td>0.203477</td>\n",
       "      <td>-0.751101</td>\n",
       "      <td>0.696649</td>\n",
       "      <td>0.230398</td>\n",
       "      <td>0.690651</td>\n",
       "      <td>-1.199068</td>\n",
       "      <td>0</td>\n",
       "    </tr>\n",
       "    <tr>\n",
       "      <th>3</th>\n",
       "      <td>0</td>\n",
       "      <td>-0.420409</td>\n",
       "      <td>408</td>\n",
       "      <td>1</td>\n",
       "      <td>0</td>\n",
       "      <td>-0.577587</td>\n",
       "      <td>2.203741</td>\n",
       "      <td>-1.461423</td>\n",
       "      <td>2.203911</td>\n",
       "      <td>-2.740354</td>\n",
       "      <td>-0.614545</td>\n",
       "      <td>-2.740765</td>\n",
       "      <td>-0.073686</td>\n",
       "      <td>-0.549048</td>\n",
       "      <td>-0.073952</td>\n",
       "      <td>-1.334498</td>\n",
       "      <td>1.044284</td>\n",
       "      <td>-1.338013</td>\n",
       "      <td>0.331298</td>\n",
       "      <td>0</td>\n",
       "    </tr>\n",
       "    <tr>\n",
       "      <th>4</th>\n",
       "      <td>0</td>\n",
       "      <td>-0.647723</td>\n",
       "      <td>415</td>\n",
       "      <td>1</td>\n",
       "      <td>0</td>\n",
       "      <td>-0.577587</td>\n",
       "      <td>-0.254682</td>\n",
       "      <td>0.651160</td>\n",
       "      <td>-0.254636</td>\n",
       "      <td>-1.031207</td>\n",
       "      <td>1.100966</td>\n",
       "      <td>-1.030217</td>\n",
       "      <td>-0.271556</td>\n",
       "      <td>1.056338</td>\n",
       "      <td>-0.271820</td>\n",
       "      <td>-0.065031</td>\n",
       "      <td>-0.583487</td>\n",
       "      <td>-0.061701</td>\n",
       "      <td>1.096480</td>\n",
       "      <td>0</td>\n",
       "    </tr>\n",
       "  </tbody>\n",
       "</table>\n",
       "</div>"
      ],
      "text/plain": [
       "   State   Acc_len  Area_code  Int_plan  Vmail_plan  Vmail_message   Day_min  \\\n",
       "0      0  0.690901        415         0           1       1.261885  1.568293   \n",
       "1      0  0.160503        415         0           1       1.335463 -0.349166   \n",
       "2      0  0.918214        415         0           0      -0.577587  1.166275   \n",
       "3      0 -0.420409        408         1           0      -0.577587  2.203741   \n",
       "4      0 -0.647723        415         1           0      -0.577587 -0.254682   \n",
       "\n",
       "   Day_calls  Day_charge  Eve_mins  Eve_calls  Eve_charge  Night_mins  \\\n",
       "0   0.500261    1.568569 -0.059921  -0.059527   -0.059742    0.872135   \n",
       "1   1.154156   -0.349447 -0.097506   0.142298   -0.096978    1.064069   \n",
       "2   0.701460    1.166439 -1.567294   0.495492   -1.567818   -0.752381   \n",
       "3  -1.461423    2.203911 -2.740354  -0.614545   -2.740765   -0.073686   \n",
       "4   0.651160   -0.254636 -1.031207   1.100966   -1.030217   -0.271556   \n",
       "\n",
       "   Night_calls  Night_charge  Int_mins  Int_calls  Int_charge  Custserv_calls  \\\n",
       "0    -0.448712      0.871418 -0.101301  -0.583487   -0.102005       -0.433885   \n",
       "1     0.153308      1.064889  1.240707  -0.583487    1.241481       -0.433885   \n",
       "2     0.203477     -0.751101  0.696649   0.230398    0.690651       -1.199068   \n",
       "3    -0.549048     -0.073952 -1.334498   1.044284   -1.338013        0.331298   \n",
       "4     1.056338     -0.271820 -0.065031  -0.583487   -0.061701        1.096480   \n",
       "\n",
       "   Churn  \n",
       "0      0  \n",
       "1      0  \n",
       "2      0  \n",
       "3      0  \n",
       "4      0  "
      ]
     },
     "execution_count": 52,
     "metadata": {},
     "output_type": "execute_result"
    }
   ],
   "source": [
    "df.head()"
   ]
  },
  {
   "cell_type": "code",
   "execution_count": 4,
   "metadata": {},
   "outputs": [],
   "source": [
    "X = df.drop('Churn',axis=1)\n",
    "y=df.Churn"
   ]
  },
  {
   "cell_type": "code",
   "execution_count": 5,
   "metadata": {},
   "outputs": [],
   "source": [
    "X_train,X_test,y_train,y_test = train_test_split(X,y,test_size=0.3,random_state=10)"
   ]
  },
  {
   "cell_type": "code",
   "execution_count": 6,
   "metadata": {},
   "outputs": [
    {
     "name": "stdout",
     "output_type": "stream",
     "text": [
      "(3231, 19)\n",
      "(1386, 19)\n",
      "Counter({0: 2761, 1: 470})\n",
      "Counter({0: 1200, 1: 186})\n"
     ]
    }
   ],
   "source": [
    "print(X_train.shape)\n",
    "print(X_test.shape)\n",
    "print(Counter(y_train))\n",
    "print(Counter(y_test))"
   ]
  },
  {
   "cell_type": "code",
   "execution_count": 7,
   "metadata": {},
   "outputs": [],
   "source": [
    "sm = SMOTE()\n",
    "X_train_sm,y_train_sm = sm.fit_sample(X_train,y_train)"
   ]
  },
  {
   "cell_type": "code",
   "execution_count": 8,
   "metadata": {},
   "outputs": [
    {
     "name": "stdout",
     "output_type": "stream",
     "text": [
      "Counter({0: 2761, 1: 2761})\n",
      "Counter({0: 1200, 1: 186})\n"
     ]
    }
   ],
   "source": [
    "# now the chuners and non chuners ratio is same in the output\n",
    "print(Counter(y_train_sm))\n",
    "print(Counter(y_test))"
   ]
  },
  {
   "cell_type": "code",
   "execution_count": null,
   "metadata": {},
   "outputs": [],
   "source": []
  },
  {
   "cell_type": "code",
   "execution_count": 24,
   "metadata": {},
   "outputs": [
    {
     "data": {
      "text/plain": [
       "RandomForestClassifier(bootstrap=False, class_weight=None, criterion='gini',\n",
       "            max_depth=9, max_features='sqrt', max_leaf_nodes=None,\n",
       "            min_impurity_decrease=0.0, min_impurity_split=None,\n",
       "            min_samples_leaf=1, min_samples_split=2,\n",
       "            min_weight_fraction_leaf=0.0, n_estimators=9, n_jobs=None,\n",
       "            oob_score=False, random_state=None, verbose=0,\n",
       "            warm_start=False)"
      ]
     },
     "execution_count": 24,
     "metadata": {},
     "output_type": "execute_result"
    }
   ],
   "source": [
    "model = RandomForestClassifier(n_estimators=9,\n",
    " max_features='sqrt',\n",
    " max_depth=9,\n",
    " criterion='gini',\n",
    " bootstrap=False)\n",
    "\n",
    "model.fit(X_train_sm,y_train_sm)\n"
   ]
  },
  {
   "cell_type": "code",
   "execution_count": 25,
   "metadata": {},
   "outputs": [],
   "source": [
    "y_pred_rf= model.predict(X_test)"
   ]
  },
  {
   "cell_type": "code",
   "execution_count": 26,
   "metadata": {},
   "outputs": [
    {
     "name": "stdout",
     "output_type": "stream",
     "text": [
      "              precision    recall  f1-score   support\n",
      "\n",
      "           0       0.97      0.97      0.97      1200\n",
      "           1       0.80      0.82      0.81       186\n",
      "\n",
      "   micro avg       0.95      0.95      0.95      1386\n",
      "   macro avg       0.88      0.89      0.89      1386\n",
      "weighted avg       0.95      0.95      0.95      1386\n",
      "\n"
     ]
    }
   ],
   "source": [
    "print(classification_report(y_test,y_pred_rf))"
   ]
  },
  {
   "cell_type": "code",
   "execution_count": null,
   "metadata": {},
   "outputs": [],
   "source": [
    "# got a recall of 82% and precison of 80% at a particular trial"
   ]
  },
  {
   "cell_type": "code",
   "execution_count": 27,
   "metadata": {},
   "outputs": [
    {
     "data": {
      "text/plain": [
       "0.9473304473304474"
      ]
     },
     "execution_count": 27,
     "metadata": {},
     "output_type": "execute_result"
    }
   ],
   "source": [
    "accuracy_score(y_test,y_pred_rf)"
   ]
  },
  {
   "cell_type": "code",
   "execution_count": 28,
   "metadata": {},
   "outputs": [
    {
     "data": {
      "text/plain": [
       "array([[1161,   39],\n",
       "       [  34,  152]])"
      ]
     },
     "execution_count": 28,
     "metadata": {},
     "output_type": "execute_result"
    }
   ],
   "source": [
    "confusion_matrix(y_test,y_pred_rf)"
   ]
  },
  {
   "cell_type": "markdown",
   "metadata": {},
   "source": [
    "## Grid Search Method"
   ]
  },
  {
   "cell_type": "code",
   "execution_count": 29,
   "metadata": {},
   "outputs": [],
   "source": [
    "params= {'n_estimators':np.arange(1,10),\n",
    "         'criterion': ['entropy','gini'],\n",
    "          'max_features':['auto','sqrt','log2'],\n",
    "         'bootstrap':[True,False]\n",
    "          }"
   ]
  },
  {
   "cell_type": "code",
   "execution_count": 30,
   "metadata": {},
   "outputs": [],
   "source": [
    "model_cv=RandomizedSearchCV(RandomForestClassifier(),params)\n",
    "#model_cv =GridSearchCV(RandomForestClassifier(),params)"
   ]
  },
  {
   "cell_type": "code",
   "execution_count": 31,
   "metadata": {},
   "outputs": [
    {
     "name": "stderr",
     "output_type": "stream",
     "text": [
      "/Users/muralijajula/anaconda3/lib/python3.7/site-packages/sklearn/model_selection/_split.py:2053: FutureWarning: You should specify a value for 'cv' instead of relying on the default value. The default value will change from 3 to 5 in version 0.22.\n",
      "  warnings.warn(CV_WARNING, FutureWarning)\n"
     ]
    },
    {
     "data": {
      "text/plain": [
       "RandomizedSearchCV(cv='warn', error_score='raise-deprecating',\n",
       "          estimator=RandomForestClassifier(bootstrap=True, class_weight=None, criterion='gini',\n",
       "            max_depth=None, max_features='auto', max_leaf_nodes=None,\n",
       "            min_impurity_decrease=0.0, min_impurity_split=None,\n",
       "            min_samples_leaf=1, min_samples_split=2,\n",
       "            min_weight_fraction_leaf=0.0, n_estimators='warn', n_jobs=None,\n",
       "            oob_score=False, random_state=None, verbose=0,\n",
       "            warm_start=False),\n",
       "          fit_params=None, iid='warn', n_iter=10, n_jobs=None,\n",
       "          param_distributions={'n_estimators': array([1, 2, 3, 4, 5, 6, 7, 8, 9]), 'criterion': ['entropy', 'gini'], 'max_features': ['auto', 'sqrt', 'log2'], 'bootstrap': [True, False]},\n",
       "          pre_dispatch='2*n_jobs', random_state=None, refit=True,\n",
       "          return_train_score='warn', scoring=None, verbose=0)"
      ]
     },
     "execution_count": 31,
     "metadata": {},
     "output_type": "execute_result"
    }
   ],
   "source": [
    "model_cv.fit(X_train_sm,y_train_sm)"
   ]
  },
  {
   "cell_type": "code",
   "execution_count": 32,
   "metadata": {},
   "outputs": [
    {
     "data": {
      "text/plain": [
       "{'n_estimators': 9,\n",
       " 'max_features': 'auto',\n",
       " 'criterion': 'entropy',\n",
       " 'bootstrap': False}"
      ]
     },
     "execution_count": 32,
     "metadata": {},
     "output_type": "execute_result"
    }
   ],
   "source": [
    "model_cv.best_params_"
   ]
  },
  {
   "cell_type": "code",
   "execution_count": 34,
   "metadata": {},
   "outputs": [
    {
     "data": {
      "text/plain": [
       "RandomForestClassifier(bootstrap=False, class_weight=None,\n",
       "            criterion='entropy', max_depth=None, max_features='auto',\n",
       "            max_leaf_nodes=None, min_impurity_decrease=0.0,\n",
       "            min_impurity_split=None, min_samples_leaf=1,\n",
       "            min_samples_split=2, min_weight_fraction_leaf=0.0,\n",
       "            n_estimators=9, n_jobs=None, oob_score=False,\n",
       "            random_state=None, verbose=0, warm_start=False)"
      ]
     },
     "execution_count": 34,
     "metadata": {},
     "output_type": "execute_result"
    }
   ],
   "source": [
    "model_cv.best_estimator_"
   ]
  },
  {
   "cell_type": "markdown",
   "metadata": {},
   "source": [
    "\n",
    "## ROC CURVE"
   ]
  },
  {
   "cell_type": "code",
   "execution_count": 35,
   "metadata": {},
   "outputs": [
    {
     "data": {
      "text/plain": [
       "array([[0.94061303, 0.05938697],\n",
       "       [0.14574039, 0.85425961],\n",
       "       [0.68891044, 0.31108956],\n",
       "       ...,\n",
       "       [0.83596436, 0.16403564],\n",
       "       [0.44120172, 0.55879828],\n",
       "       [0.74610756, 0.25389244]])"
      ]
     },
     "execution_count": 35,
     "metadata": {},
     "output_type": "execute_result"
    }
   ],
   "source": [
    "#checking for the ROC - CHECK FOR EFFICIENCY OF THE MODEL\n",
    "model.predict_proba(X_test)"
   ]
  },
  {
   "cell_type": "code",
   "execution_count": 36,
   "metadata": {},
   "outputs": [
    {
     "name": "stdout",
     "output_type": "stream",
     "text": [
      "[0.05938697 0.85425961 0.31108956 ... 0.16403564 0.55879828 0.25389244]\n"
     ]
    }
   ],
   "source": [
    "#EXTRACTING ONLY the 2nd column values as it the predict proba values for the churners\n",
    "y_pred_prob=model.predict_proba(X_test)[:,1]\n",
    "print(y_pred_prob)"
   ]
  },
  {
   "cell_type": "code",
   "execution_count": 37,
   "metadata": {},
   "outputs": [],
   "source": [
    "fpr, tpr , thresholds = roc_curve(y_test,y_pred_prob)"
   ]
  },
  {
   "cell_type": "code",
   "execution_count": 38,
   "metadata": {},
   "outputs": [
    {
     "data": {
      "image/png": "[encoded data removed]",
      "text/plain": [
       "<Figure size 432x288 with 1 Axes>"
      ]
     },
     "metadata": {
      "needs_background": "light"
     },
     "output_type": "display_data"
    }
   ],
   "source": [
    "plt.plot(fpr,tpr)\n",
    "plt.xlabel(\"False positive rate\")\n",
    "plt.ylabel(\"True positive rate\")\n",
    "plt.plot([0,1],[0,1],\"--\")\n",
    "plt.show()"
   ]
  },
  {
   "cell_type": "code",
   "execution_count": null,
   "metadata": {},
   "outputs": [],
   "source": [
    "## The default probabilty threshold is 50% "
   ]
  },
  {
   "cell_type": "code",
   "execution_count": null,
   "metadata": {},
   "outputs": [],
   "source": [
    "# checking the area under the curve - for a default random model AUC - 0.5 \n",
    "#So, we make sure we get better AUC score for a better performing model"
   ]
  },
  {
   "cell_type": "code",
   "execution_count": 39,
   "metadata": {},
   "outputs": [],
   "source": [
    "auc = roc_auc_score(y_test,y_pred_prob)"
   ]
  },
  {
   "cell_type": "code",
   "execution_count": 40,
   "metadata": {},
   "outputs": [
    {
     "name": "stdout",
     "output_type": "stream",
     "text": [
      "0.909171146953405\n"
     ]
    }
   ],
   "source": [
    "print(auc)"
   ]
  },
  {
   "cell_type": "markdown",
   "metadata": {},
   "source": [
    "### FROM THE Above result we can see the area under the curve is 90% which indicates the model is pretty good for the predictions further"
   ]
  },
  {
   "cell_type": "code",
   "execution_count": 41,
   "metadata": {},
   "outputs": [],
   "source": [
    "importances= model.feature_importances_\n",
    "sort=np.argsort(importances)\n",
    "label=X.columns[sort]\n"
   ]
  },
  {
   "cell_type": "code",
   "execution_count": 42,
   "metadata": {},
   "outputs": [
    {
     "name": "stdout",
     "output_type": "stream",
     "text": [
      "range(0, 19)\n"
     ]
    }
   ],
   "source": [
    "X.shape\n",
    "ss= range(X.shape[1])\n",
    "print(ss)"
   ]
  },
  {
   "cell_type": "code",
   "execution_count": 43,
   "metadata": {},
   "outputs": [
    {
     "data": {
      "text/plain": [
       "<BarContainer object of 19 artists>"
      ]
     },
     "execution_count": 43,
     "metadata": {},
     "output_type": "execute_result"
    },
    {
     "data": {
      "image/png": "[encoded data removed]",
      "text/plain": [
       "<Figure size 432x288 with 1 Axes>"
      ]
     },
     "metadata": {
      "needs_background": "light"
     },
     "output_type": "display_data"
    }
   ],
   "source": [
    "plt.barh(ss,importances[sort],tick_label=label)"
   ]
  },
  {
   "cell_type": "markdown",
   "metadata": {},
   "source": [
    "### The above figure shows the feature importances for the particular model.and which features drive churn the most"
   ]
  },
  {
   "cell_type": "code",
   "execution_count": 48,
   "metadata": {},
   "outputs": [],
   "source": [
    "from sklearn.externals import joblib"
   ]
  },
  {
   "cell_type": "code",
   "execution_count": 49,
   "metadata": {},
   "outputs": [
    {
     "data": {
      "text/plain": [
       "['Telecom_trained_model.ml']"
      ]
     },
     "execution_count": 49,
     "metadata": {},
     "output_type": "execute_result"
    }
   ],
   "source": [
    "joblib.dump(model,'Telecom_trained_model.ml')"
   ]
  },
  {
   "cell_type": "code",
   "execution_count": null,
   "metadata": {},
   "outputs": [],
   "source": [
    "#to load the trained model\n",
    "model=joblib.load('Telecom_trained_model.ml')"
   ]
  },
  {
   "cell_type": "code",
   "execution_count": null,
   "metadata": {},
   "outputs": [],
   "source": []
  },
  {
   "cell_type": "code",
   "execution_count": null,
   "metadata": {},
   "outputs": [],
   "source": []
  },
  {
   "cell_type": "code",
   "execution_count": null,
   "metadata": {},
   "outputs": [],
   "source": []
  },
  {
   "cell_type": "code",
   "execution_count": null,
   "metadata": {},
   "outputs": [],
   "source": []
  },
  {
   "cell_type": "code",
   "execution_count": null,
   "metadata": {},
   "outputs": [],
   "source": []
  }
 ],
 "metadata": {
  "kernelspec": {
   "display_name": "Python 3",
   "language": "python",
   "name": "python3"
  },
  "language_info": {
   "codemirror_mode": {
    "name": "ipython",
    "version": 3
   },
   "file_extension": ".py",
   "mimetype": "text/x-python",
   "name": "python",
   "nbconvert_exporter": "python",
   "pygments_lexer": "ipython3",
   "version": "3.7.3"
  }
 },
 "nbformat": 4,
 "nbformat_minor": 2
}
