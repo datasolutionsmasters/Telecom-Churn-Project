{
 "cells": [
  {
   "cell_type": "code",
   "execution_count": 250,
   "metadata": {},
   "outputs": [
    {
     "name": "stdout",
     "output_type": "stream",
     "text": [
      "Requirement already satisfied: pymysql in ./anaconda3/lib/python3.7/site-packages (0.9.3)\r\n"
     ]
    }
   ],
   "source": [
    "!pip install pymysql\n",
    "import pandas as pd\n",
    "import seaborn as sns\n",
    "import matplotlib.pyplot as plt\n",
    "%matplotlib inline\n",
    "from sqlalchemy import create_engine"
   ]
  },
  {
   "cell_type": "code",
   "execution_count": 251,
   "metadata": {},
   "outputs": [],
   "source": [
    "db_host = '18.136.56.185'\n",
    "username = 'dm_team3'\n",
    "user_pass = 'dm_team15119#'\n",
    "db_name = 'project_telecom'\n",
    "\n",
    "conn = create_engine('mysql+pymysql://'+username+':'+user_pass+'@'+db_host+'/'+db_name)"
   ]
  },
  {
   "cell_type": "code",
   "execution_count": 252,
   "metadata": {},
   "outputs": [],
   "source": [
    "sql = 'select * from telecom_churn_data'"
   ]
  },
  {
   "cell_type": "code",
   "execution_count": 253,
   "metadata": {},
   "outputs": [],
   "source": [
    "df = pd.read_sql(sql,conn)"
   ]
  },
  {
   "cell_type": "code",
   "execution_count": 254,
   "metadata": {},
   "outputs": [
    {
     "data": {
      "text/html": [
       "<div>\n",
       "<style scoped>\n",
       "    .dataframe tbody tr th:only-of-type {\n",
       "        vertical-align: middle;\n",
       "    }\n",
       "\n",
       "    .dataframe tbody tr th {\n",
       "        vertical-align: top;\n",
       "    }\n",
       "\n",
       "    .dataframe thead th {\n",
       "        text-align: right;\n",
       "    }\n",
       "</style>\n",
       "<table border=\"1\" class=\"dataframe\">\n",
       "  <thead>\n",
       "    <tr style=\"text-align: right;\">\n",
       "      <th></th>\n",
       "      <th>columns1</th>\n",
       "      <th>columns2</th>\n",
       "      <th>columns3</th>\n",
       "      <th>columns4</th>\n",
       "      <th>columns5</th>\n",
       "      <th>columns6</th>\n",
       "      <th>columns7</th>\n",
       "      <th>columns8</th>\n",
       "      <th>columns9</th>\n",
       "      <th>columns10</th>\n",
       "      <th>...</th>\n",
       "      <th>columns12</th>\n",
       "      <th>columns13</th>\n",
       "      <th>columns14</th>\n",
       "      <th>columns15</th>\n",
       "      <th>columns16</th>\n",
       "      <th>columns17</th>\n",
       "      <th>columns18</th>\n",
       "      <th>columns19</th>\n",
       "      <th>columns20</th>\n",
       "      <th>columns21</th>\n",
       "    </tr>\n",
       "  </thead>\n",
       "  <tbody>\n",
       "    <tr>\n",
       "      <th>0</th>\n",
       "      <td>KS</td>\n",
       "      <td>128</td>\n",
       "      <td>415</td>\n",
       "      <td>382-4657</td>\n",
       "      <td>no</td>\n",
       "      <td>yes</td>\n",
       "      <td>25</td>\n",
       "      <td>265.1</td>\n",
       "      <td>110</td>\n",
       "      <td>45.07</td>\n",
       "      <td>...</td>\n",
       "      <td>99</td>\n",
       "      <td>16.78</td>\n",
       "      <td>244.7</td>\n",
       "      <td>91</td>\n",
       "      <td>11.01</td>\n",
       "      <td>10</td>\n",
       "      <td>3</td>\n",
       "      <td>2.7</td>\n",
       "      <td>1</td>\n",
       "      <td>False.</td>\n",
       "    </tr>\n",
       "    <tr>\n",
       "      <th>1</th>\n",
       "      <td>OH</td>\n",
       "      <td>107</td>\n",
       "      <td>415</td>\n",
       "      <td>371-7191</td>\n",
       "      <td>no</td>\n",
       "      <td>yes</td>\n",
       "      <td>26</td>\n",
       "      <td>161.6</td>\n",
       "      <td>123</td>\n",
       "      <td>27.47</td>\n",
       "      <td>...</td>\n",
       "      <td>103</td>\n",
       "      <td>16.62</td>\n",
       "      <td>254.4</td>\n",
       "      <td>103</td>\n",
       "      <td>11.45</td>\n",
       "      <td>13.7</td>\n",
       "      <td>3</td>\n",
       "      <td>3.7</td>\n",
       "      <td>1</td>\n",
       "      <td>False.</td>\n",
       "    </tr>\n",
       "    <tr>\n",
       "      <th>2</th>\n",
       "      <td>NJ</td>\n",
       "      <td>137</td>\n",
       "      <td>415</td>\n",
       "      <td>358-1921</td>\n",
       "      <td>no</td>\n",
       "      <td>no</td>\n",
       "      <td>0</td>\n",
       "      <td>243.4</td>\n",
       "      <td>114</td>\n",
       "      <td>41.38</td>\n",
       "      <td>...</td>\n",
       "      <td>110</td>\n",
       "      <td>10.3</td>\n",
       "      <td>162.6</td>\n",
       "      <td>104</td>\n",
       "      <td>7.32</td>\n",
       "      <td>12.2</td>\n",
       "      <td>5</td>\n",
       "      <td>3.29</td>\n",
       "      <td>0</td>\n",
       "      <td>False.</td>\n",
       "    </tr>\n",
       "    <tr>\n",
       "      <th>3</th>\n",
       "      <td>OH</td>\n",
       "      <td>84</td>\n",
       "      <td>408</td>\n",
       "      <td>375-9999</td>\n",
       "      <td>yes</td>\n",
       "      <td>no</td>\n",
       "      <td>0</td>\n",
       "      <td>299.4</td>\n",
       "      <td>71</td>\n",
       "      <td>50.9</td>\n",
       "      <td>...</td>\n",
       "      <td>88</td>\n",
       "      <td>5.26</td>\n",
       "      <td>196.9</td>\n",
       "      <td>89</td>\n",
       "      <td>8.86</td>\n",
       "      <td>6.6</td>\n",
       "      <td>7</td>\n",
       "      <td>1.78</td>\n",
       "      <td>2</td>\n",
       "      <td>False.</td>\n",
       "    </tr>\n",
       "    <tr>\n",
       "      <th>4</th>\n",
       "      <td>OK</td>\n",
       "      <td>75</td>\n",
       "      <td>415</td>\n",
       "      <td>330-6626</td>\n",
       "      <td>yes</td>\n",
       "      <td>no</td>\n",
       "      <td>0</td>\n",
       "      <td>166.7</td>\n",
       "      <td>113</td>\n",
       "      <td>28.34</td>\n",
       "      <td>...</td>\n",
       "      <td>122</td>\n",
       "      <td>12.61</td>\n",
       "      <td>186.9</td>\n",
       "      <td>121</td>\n",
       "      <td>8.41</td>\n",
       "      <td>10.1</td>\n",
       "      <td>3</td>\n",
       "      <td>2.73</td>\n",
       "      <td>3</td>\n",
       "      <td>False.</td>\n",
       "    </tr>\n",
       "  </tbody>\n",
       "</table>\n",
       "<p>5 rows × 21 columns</p>\n",
       "</div>"
      ],
      "text/plain": [
       "  columns1 columns2 columns3   columns4 columns5 columns6 columns7 columns8  \\\n",
       "0       KS      128      415   382-4657       no      yes       25    265.1   \n",
       "1       OH      107      415   371-7191       no      yes       26    161.6   \n",
       "2       NJ      137      415   358-1921       no       no        0    243.4   \n",
       "3       OH       84      408   375-9999      yes       no        0    299.4   \n",
       "4       OK       75      415   330-6626      yes       no        0    166.7   \n",
       "\n",
       "  columns9 columns10  ... columns12 columns13 columns14 columns15 columns16  \\\n",
       "0      110     45.07  ...        99     16.78     244.7        91     11.01   \n",
       "1      123     27.47  ...       103     16.62     254.4       103     11.45   \n",
       "2      114     41.38  ...       110      10.3     162.6       104      7.32   \n",
       "3       71      50.9  ...        88      5.26     196.9        89      8.86   \n",
       "4      113     28.34  ...       122     12.61     186.9       121      8.41   \n",
       "\n",
       "  columns17 columns18 columns19 columns20 columns21  \n",
       "0        10         3       2.7         1    False.  \n",
       "1      13.7         3       3.7         1    False.  \n",
       "2      12.2         5      3.29         0    False.  \n",
       "3       6.6         7      1.78         2    False.  \n",
       "4      10.1         3      2.73         3    False.  \n",
       "\n",
       "[5 rows x 21 columns]"
      ]
     },
     "execution_count": 254,
     "metadata": {},
     "output_type": "execute_result"
    }
   ],
   "source": [
    "df.head()"
   ]
  },
  {
   "cell_type": "code",
   "execution_count": 255,
   "metadata": {},
   "outputs": [],
   "source": [
    "#convereted all the columns names to valid names from the pdf provided\n",
    "df.columns=['State', 'Acc_len', 'Area_code', 'Phone', 'Int_plan', 'Vmail_plan',\n",
    "       'Vmail_message', 'Day_min', 'Day_calls', 'Day_charge', 'Eve_mins',\n",
    "       'Eve_calls', 'Eve_charge', 'Night_mins', 'Night_calls', 'Night_charge',\n",
    "       'Int_mins', 'Int_calls', 'Int_charge', 'Custserv_calls', 'Churn']"
   ]
  },
  {
   "cell_type": "code",
   "execution_count": 256,
   "metadata": {},
   "outputs": [
    {
     "name": "stdout",
     "output_type": "stream",
     "text": [
      "<class 'pandas.core.frame.DataFrame'>\n",
      "RangeIndex: 4617 entries, 0 to 4616\n",
      "Data columns (total 21 columns):\n",
      "State             4617 non-null object\n",
      "Acc_len           4617 non-null object\n",
      "Area_code         4617 non-null object\n",
      "Phone             4617 non-null object\n",
      "Int_plan          4617 non-null object\n",
      "Vmail_plan        4617 non-null object\n",
      "Vmail_message     4617 non-null object\n",
      "Day_min           4617 non-null object\n",
      "Day_calls         4617 non-null object\n",
      "Day_charge        4617 non-null object\n",
      "Eve_mins          4617 non-null object\n",
      "Eve_calls         4617 non-null object\n",
      "Eve_charge        4617 non-null object\n",
      "Night_mins        4617 non-null object\n",
      "Night_calls       4617 non-null object\n",
      "Night_charge      4617 non-null object\n",
      "Int_mins          4617 non-null object\n",
      "Int_calls         4617 non-null object\n",
      "Int_charge        4617 non-null object\n",
      "Custserv_calls    4617 non-null object\n",
      "Churn             4617 non-null object\n",
      "dtypes: object(21)\n",
      "memory usage: 757.6+ KB\n"
     ]
    }
   ],
   "source": [
    "df.info()"
   ]
  },
  {
   "cell_type": "code",
   "execution_count": 257,
   "metadata": {},
   "outputs": [
    {
     "name": "stdout",
     "output_type": "stream",
     "text": [
      "(4617, 21)\n"
     ]
    }
   ],
   "source": [
    "df.head()\n",
    "print(df.shape)"
   ]
  },
  {
   "cell_type": "code",
   "execution_count": 258,
   "metadata": {},
   "outputs": [
    {
     "data": {
      "text/plain": [
       "State             0\n",
       "Acc_len           0\n",
       "Area_code         0\n",
       "Phone             0\n",
       "Int_plan          0\n",
       "Vmail_plan        0\n",
       "Vmail_message     0\n",
       "Day_min           0\n",
       "Day_calls         0\n",
       "Day_charge        0\n",
       "Eve_mins          0\n",
       "Eve_calls         0\n",
       "Eve_charge        0\n",
       "Night_mins        0\n",
       "Night_calls       0\n",
       "Night_charge      0\n",
       "Int_mins          0\n",
       "Int_calls         0\n",
       "Int_charge        0\n",
       "Custserv_calls    0\n",
       "Churn             0\n",
       "dtype: int64"
      ]
     },
     "execution_count": 258,
     "metadata": {},
     "output_type": "execute_result"
    }
   ],
   "source": [
    "#Checking if any values in the variables are null \n",
    "df.isnull().sum()"
   ]
  },
  {
   "cell_type": "code",
   "execution_count": null,
   "metadata": {},
   "outputs": [],
   "source": [
    "#convert the variable data types to valid data types"
   ]
  },
  {
   "cell_type": "code",
   "execution_count": 259,
   "metadata": {},
   "outputs": [
    {
     "data": {
      "text/plain": [
       "Index(['State', 'Acc_len', 'Area_code', 'Phone', 'Int_plan', 'Vmail_plan',\n",
       "       'Vmail_message', 'Day_min', 'Day_calls', 'Day_charge', 'Eve_mins',\n",
       "       'Eve_calls', 'Eve_charge', 'Night_mins', 'Night_calls', 'Night_charge',\n",
       "       'Int_mins', 'Int_calls', 'Int_charge', 'Custserv_calls', 'Churn'],\n",
       "      dtype='object')"
      ]
     },
     "execution_count": 259,
     "metadata": {},
     "output_type": "execute_result"
    }
   ],
   "source": [
    "df.columns"
   ]
  },
  {
   "cell_type": "code",
   "execution_count": 260,
   "metadata": {},
   "outputs": [],
   "source": [
    "#creating a list except the elements which are catergorical[state,Int_plan,Phone,Vmail_plan,Churn]\n",
    "list = ['Acc_len', 'Area_code','Vmail_message', 'Day_min', 'Day_calls', 'Day_charge', 'Eve_mins',\n",
    "       'Eve_calls', 'Eve_charge', 'Night_mins', 'Night_calls', 'Night_charge',\n",
    "       'Int_mins', 'Int_calls', 'Int_charge', 'Custserv_calls']\n",
    "\n",
    "#ff['Acc_len']= pd.to_numeric(ff.Acc_len,errors='coerce')\n",
    "\n",
    "df[list]= df[list].apply(pd.to_numeric,errors='coerce')"
   ]
  },
  {
   "cell_type": "code",
   "execution_count": 233,
   "metadata": {},
   "outputs": [
    {
     "name": "stdout",
     "output_type": "stream",
     "text": [
      "<class 'pandas.core.frame.DataFrame'>\n",
      "RangeIndex: 4617 entries, 0 to 4616\n",
      "Data columns (total 21 columns):\n",
      "State             4617 non-null object\n",
      "Acc_len           4617 non-null int64\n",
      "Area_code         4617 non-null int64\n",
      "Phone             4617 non-null object\n",
      "Int_plan          4617 non-null object\n",
      "Vmail_plan        4617 non-null object\n",
      "Vmail_message     4617 non-null int64\n",
      "Day_min           4617 non-null float64\n",
      "Day_calls         4617 non-null int64\n",
      "Day_charge        4617 non-null float64\n",
      "Eve_mins          4617 non-null float64\n",
      "Eve_calls         4617 non-null int64\n",
      "Eve_charge        4617 non-null float64\n",
      "Night_mins        4617 non-null float64\n",
      "Night_calls       4617 non-null int64\n",
      "Night_charge      4617 non-null float64\n",
      "Int_mins          4617 non-null float64\n",
      "Int_calls         4617 non-null int64\n",
      "Int_charge        4617 non-null float64\n",
      "Custserv_calls    4617 non-null int64\n",
      "Churn             4617 non-null object\n",
      "dtypes: float64(8), int64(8), object(5)\n",
      "memory usage: 757.6+ KB\n"
     ]
    }
   ],
   "source": [
    "df.info()"
   ]
  },
  {
   "cell_type": "code",
   "execution_count": 261,
   "metadata": {},
   "outputs": [
    {
     "name": "stdout",
     "output_type": "stream",
     "text": [
      "(4617, 20)\n"
     ]
    }
   ],
   "source": [
    "#dropping phone field -not required since it is unique\n",
    "df.drop(columns='Phone',inplace=True)\n",
    "print(df.shape)"
   ]
  },
  {
   "cell_type": "code",
   "execution_count": 262,
   "metadata": {},
   "outputs": [],
   "source": [
    "#saving the file before proceeding further\n",
    "df_bfre_enc= df.to_csv('df_bfre_enc.csv',index=False)"
   ]
  },
  {
   "cell_type": "code",
   "execution_count": null,
   "metadata": {},
   "outputs": [],
   "source": []
  },
  {
   "cell_type": "code",
   "execution_count": null,
   "metadata": {},
   "outputs": [],
   "source": []
  },
  {
   "cell_type": "code",
   "execution_count": 125,
   "metadata": {},
   "outputs": [],
   "source": [
    "#Encoding the columns values of international plan and voice mail and churn using label encoder"
   ]
  },
  {
   "cell_type": "code",
   "execution_count": 263,
   "metadata": {},
   "outputs": [],
   "source": [
    "from sklearn.preprocessing import LabelEncoder\n",
    "\n",
    "list1=['Int_plan','Vmail_plan','Churn']\n",
    "encoder = LabelEncoder()\n",
    "for i in list1:\n",
    "    df[i]=encoder.fit_transform(df[i])"
   ]
  },
  {
   "cell_type": "code",
   "execution_count": 264,
   "metadata": {},
   "outputs": [
    {
     "name": "stdout",
     "output_type": "stream",
     "text": [
      "<class 'pandas.core.frame.DataFrame'>\n",
      "RangeIndex: 4617 entries, 0 to 4616\n",
      "Data columns (total 20 columns):\n",
      "State             4617 non-null object\n",
      "Acc_len           4617 non-null int64\n",
      "Area_code         4617 non-null int64\n",
      "Int_plan          4617 non-null int64\n",
      "Vmail_plan        4617 non-null int64\n",
      "Vmail_message     4617 non-null int64\n",
      "Day_min           4617 non-null float64\n",
      "Day_calls         4617 non-null int64\n",
      "Day_charge        4617 non-null float64\n",
      "Eve_mins          4617 non-null float64\n",
      "Eve_calls         4617 non-null int64\n",
      "Eve_charge        4617 non-null float64\n",
      "Night_mins        4617 non-null float64\n",
      "Night_calls       4617 non-null int64\n",
      "Night_charge      4617 non-null float64\n",
      "Int_mins          4617 non-null float64\n",
      "Int_calls         4617 non-null int64\n",
      "Int_charge        4617 non-null float64\n",
      "Custserv_calls    4617 non-null int64\n",
      "Churn             4617 non-null int64\n",
      "dtypes: float64(8), int64(11), object(1)\n",
      "memory usage: 721.5+ KB\n"
     ]
    }
   ],
   "source": [
    "df.info()"
   ]
  },
  {
   "cell_type": "code",
   "execution_count": 265,
   "metadata": {},
   "outputs": [],
   "source": [
    "df.head()\n",
    "df_after_enc=df.to_csv('df_after_enc.csv',index=False)"
   ]
  },
  {
   "cell_type": "code",
   "execution_count": null,
   "metadata": {},
   "outputs": [],
   "source": [
    "# a column like state needs to be done one hot encoding since the values in it are huge and each value is unique -learn about one hot encoding"
   ]
  },
  {
   "cell_type": "code",
   "execution_count": 266,
   "metadata": {},
   "outputs": [
    {
     "data": {
      "text/plain": [
       "WV    149\n",
       "AL    114\n",
       "MN    112\n",
       "ID    110\n",
       "OH    110\n",
       "VA    109\n",
       "NY    109\n",
       "OR    107\n",
       "WY    106\n",
       "NJ    106\n",
       "TX    105\n",
       "UT    104\n",
       "WI     99\n",
       "MI     98\n",
       "MA     97\n",
       "KS     96\n",
       "VT     95\n",
       "ME     95\n",
       "CT     92\n",
       "MD     92\n",
       "MT     92\n",
       "NH     91\n",
       "CO     91\n",
       "MS     91\n",
       "RI     90\n",
       "KY     90\n",
       "DE     89\n",
       "WA     89\n",
       "IN     89\n",
       "NV     89\n",
       "FL     85\n",
       "MO     84\n",
       "NM     84\n",
       "TN     83\n",
       "SC     83\n",
       "NC     83\n",
       "DC     82\n",
       "AZ     81\n",
       "ND     80\n",
       "OK     80\n",
       "HI     79\n",
       "NE     79\n",
       "IL     79\n",
       "AR     77\n",
       "GA     77\n",
       "SD     76\n",
       "LA     73\n",
       "AK     69\n",
       "PA     68\n",
       "IA     65\n",
       "CA     44\n",
       "Name: State, dtype: int64"
      ]
     },
     "execution_count": 266,
     "metadata": {},
     "output_type": "execute_result"
    }
   ],
   "source": [
    "df.State.value_counts()\n",
    "#plt.bar(df.State,height=0.8,width=0.6)\n",
    "#plt.show()"
   ]
  },
  {
   "cell_type": "markdown",
   "metadata": {},
   "source": [
    "### to reduce the reduce complexity using the pandas method to convert categorical variable into dummy/indicator variables with the get_dummies function"
   ]
  },
  {
   "cell_type": "code",
   "execution_count": 245,
   "metadata": {},
   "outputs": [],
   "source": [
    "df.State=pd.get_dummies(df.State,dtype='int64')"
   ]
  },
  {
   "cell_type": "code",
   "execution_count": 246,
   "metadata": {},
   "outputs": [
    {
     "data": {
      "text/plain": [
       "0    4548\n",
       "1      69\n",
       "Name: State, dtype: int64"
      ]
     },
     "execution_count": 246,
     "metadata": {},
     "output_type": "execute_result"
    }
   ],
   "source": [
    "df.State.value_counts()"
   ]
  },
  {
   "cell_type": "code",
   "execution_count": 248,
   "metadata": {},
   "outputs": [],
   "source": [
    "#df.Area_code.value_counts()"
   ]
  },
  {
   "cell_type": "code",
   "execution_count": 153,
   "metadata": {},
   "outputs": [],
   "source": [
    "cleaned = df.to_csv('cleaned_dataset.csv',index=False)"
   ]
  },
  {
   "cell_type": "code",
   "execution_count": null,
   "metadata": {},
   "outputs": [],
   "source": []
  },
  {
   "cell_type": "code",
   "execution_count": null,
   "metadata": {},
   "outputs": [],
   "source": []
  },
  {
   "cell_type": "code",
   "execution_count": null,
   "metadata": {},
   "outputs": [],
   "source": []
  },
  {
   "cell_type": "code",
   "execution_count": null,
   "metadata": {},
   "outputs": [],
   "source": []
  },
  {
   "cell_type": "code",
   "execution_count": null,
   "metadata": {},
   "outputs": [],
   "source": []
  },
  {
   "cell_type": "code",
   "execution_count": null,
   "metadata": {},
   "outputs": [],
   "source": []
  },
  {
   "cell_type": "code",
   "execution_count": null,
   "metadata": {},
   "outputs": [],
   "source": []
  },
  {
   "cell_type": "code",
   "execution_count": null,
   "metadata": {},
   "outputs": [],
   "source": []
  },
  {
   "cell_type": "code",
   "execution_count": null,
   "metadata": {},
   "outputs": [],
   "source": []
  },
  {
   "cell_type": "code",
   "execution_count": null,
   "metadata": {},
   "outputs": [],
   "source": []
  },
  {
   "cell_type": "code",
   "execution_count": null,
   "metadata": {},
   "outputs": [],
   "source": []
  }
 ],
 "metadata": {
  "kernelspec": {
   "display_name": "Python 3",
   "language": "python",
   "name": "python3"
  },
  "language_info": {
   "codemirror_mode": {
    "name": "ipython",
    "version": 3
   },
   "file_extension": ".py",
   "mimetype": "text/x-python",
   "name": "python",
   "nbconvert_exporter": "python",
   "pygments_lexer": "ipython3",
   "version": "3.7.3"
  }
 },
 "nbformat": 4,
 "nbformat_minor": 2
}
